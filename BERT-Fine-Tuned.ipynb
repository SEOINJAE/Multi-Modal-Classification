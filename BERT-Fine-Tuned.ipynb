{
 "cells": [
  {
   "cell_type": "code",
   "execution_count": 1,
   "id": "5575a829",
   "metadata": {},
   "outputs": [],
   "source": [
    "import os\n",
    "import re\n",
    "import random\n",
    "import time\n",
    "from tqdm import tqdm\n",
    "import numpy as np\n",
    "import pandas as pd\n",
    "import matplotlib.pyplot as plt\n",
    "\n",
    "from sklearn.metrics import accuracy_score, roc_curve, auc\n",
    "\n",
    "from sklearn.metrics import accuracy_score, f1_score, precision_score, recall_score, \\\n",
    "                            roc_auc_score, confusion_matrix, classification_report, \\\n",
    "                            matthews_corrcoef, cohen_kappa_score, log_loss\n",
    "\n",
    "\n",
    "import torch\n",
    "import torch.nn as nn\n",
    "import torch.nn.functional as F\n",
    "\n",
    "from torch.utils.data import TensorDataset, DataLoader, RandomSampler, SequentialSampler\n",
    "from transformers import AdamW, get_linear_schedule_with_warmup\n",
    "from transformers import BertTokenizer\n",
    "from transformers import BertModel\n"
   ]
  },
  {
   "cell_type": "code",
   "execution_count": 2,
   "id": "4efb0388",
   "metadata": {},
   "outputs": [
    {
     "name": "stdout",
     "output_type": "stream",
     "text": [
      "There are 1 GPU(s) available.\n",
      "Device name: NVIDIA GeForce RTX 3060\n"
     ]
    }
   ],
   "source": [
    "if torch.cuda.is_available():       \n",
    "    device = torch.device(\"cuda\")\n",
    "    print(f'There are {torch.cuda.device_count()} GPU(s) available.')\n",
    "    print('Device name:', torch.cuda.get_device_name(0))\n",
    "\n",
    "else:\n",
    "    print('No GPU available, using the CPU instead.')\n",
    "    device = torch.device(\"cpu\")"
   ]
  },
  {
   "cell_type": "code",
   "execution_count": 3,
   "id": "6b2a144b",
   "metadata": {},
   "outputs": [],
   "source": [
    "random_seed = 28\n",
    "random.seed(random_seed)\n",
    "np.random.seed(random_seed)\n",
    "torch.manual_seed(random_seed)\n",
    "torch.backends.cudnn.deterministic = True\n",
    "torch.backends.cudnn.benchmark = False\n",
    "torch.cuda.manual_seed(random_seed)"
   ]
  },
  {
   "cell_type": "code",
   "execution_count": 4,
   "id": "0164cc42",
   "metadata": {},
   "outputs": [],
   "source": [
    "train_path = \"C:/Users/ANDlab3/Desktop/NLP/split_data/train.csv\"\n",
    "val_path = \"C:/Users/ANDlab3/Desktop/NLP/split_data/val.csv\"\n",
    "test_path = \"C:/Users/ANDlab3/Desktop/NLP/split_data/test.csv\""
   ]
  },
  {
   "cell_type": "code",
   "execution_count": 5,
   "id": "fb67c7e3",
   "metadata": {},
   "outputs": [],
   "source": [
    "train_data = pd.read_csv(train_path)\n",
    "val_data = pd.read_csv(val_path)\n",
    "test_data = pd.read_csv(test_path)"
   ]
  },
  {
   "cell_type": "code",
   "execution_count": 6,
   "id": "12ee7068",
   "metadata": {},
   "outputs": [],
   "source": [
    "X_train = train_data['productDisplayName']\n",
    "y_train = train_data['label']"
   ]
  },
  {
   "cell_type": "code",
   "execution_count": 7,
   "id": "f7f5b82d",
   "metadata": {},
   "outputs": [],
   "source": [
    "X_val = val_data['productDisplayName']\n",
    "y_val = val_data['label']"
   ]
  },
  {
   "cell_type": "code",
   "execution_count": 8,
   "id": "92f5c945",
   "metadata": {},
   "outputs": [],
   "source": [
    "X_test = test_data['productDisplayName']\n",
    "y_test = test_data['label']"
   ]
  },
  {
   "cell_type": "code",
   "execution_count": 9,
   "id": "d8c14e99",
   "metadata": {},
   "outputs": [
    {
     "name": "stdout",
     "output_type": "stream",
     "text": [
      "6475\n",
      "6475\n"
     ]
    }
   ],
   "source": [
    "print(len(X_train))\n",
    "print(len(y_train))"
   ]
  },
  {
   "cell_type": "code",
   "execution_count": 10,
   "id": "60724c50",
   "metadata": {
    "scrolled": true
   },
   "outputs": [
    {
     "name": "stdout",
     "output_type": "stream",
     "text": [
      "925\n",
      "925\n"
     ]
    }
   ],
   "source": [
    "print(len(X_val))\n",
    "print(len(y_val))"
   ]
  },
  {
   "cell_type": "code",
   "execution_count": 11,
   "id": "b717cd1c",
   "metadata": {},
   "outputs": [
    {
     "name": "stdout",
     "output_type": "stream",
     "text": [
      "1850\n",
      "1850\n"
     ]
    }
   ],
   "source": [
    "print(len(X_test))\n",
    "print(len(y_test))"
   ]
  },
  {
   "cell_type": "markdown",
   "id": "f65a9b86",
   "metadata": {},
   "source": [
    "# Tokenizing"
   ]
  },
  {
   "cell_type": "code",
   "execution_count": 12,
   "id": "1cc4c575",
   "metadata": {},
   "outputs": [],
   "source": [
    "def text_preprocessing(text):\n",
    "    \"\"\"\n",
    "    - Remove entity mentions (eg. '@united')\n",
    "    - Correct errors (eg. '&amp;' to '&')\n",
    "    @param    text (str): a string to be processed.\n",
    "    @return   text (Str): the processed string.\n",
    "    \"\"\"\n",
    "    # Remove '@name'\n",
    "    text = re.sub(r'(@.*?)[\\s]', ' ', text)\n",
    "\n",
    "    # Replace '&amp;' with '&'\n",
    "    text = re.sub(r'&amp;', '&', text)\n",
    "\n",
    "    # Remove trailing whitespace\n",
    "    text = re.sub(r'\\s+', ' ', text).strip()\n",
    "\n",
    "    return text"
   ]
  },
  {
   "cell_type": "code",
   "execution_count": 13,
   "id": "5c4e52d3",
   "metadata": {},
   "outputs": [],
   "source": [
    "# Load the BERT tokenizer\n",
    "tokenizer = BertTokenizer.from_pretrained('bert-base-uncased', do_lower_case=True)\n",
    "\n",
    "# Create a function to tokenize a set of texts\n",
    "def preprocessing_for_bert(data):\n",
    "    \"\"\"Perform required preprocessing steps for pretrained BERT.\n",
    "    @param    data (np.array): Array of texts to be processed.\n",
    "    @return   input_ids (torch.Tensor): Tensor of token ids to be fed to a model.\n",
    "    @return   attention_masks (torch.Tensor): Tensor of indices specifying which\n",
    "                  tokens should be attended to by the model.\n",
    "    \"\"\"\n",
    "    # Create empty lists to store outputs\n",
    "    input_ids = []\n",
    "    attention_masks = []\n",
    "\n",
    "    # For every sentence...\n",
    "    for sent in data:\n",
    "        # `encode_plus` will:\n",
    "        #    (1) Tokenize the sentence\n",
    "        #    (2) Add the `[CLS]` and `[SEP]` token to the start and end\n",
    "        #    (3) Truncate/Pad sentence to max length\n",
    "        #    (4) Map tokens to their IDs\n",
    "        #    (5) Create attention mask\n",
    "        #    (6) Return a dictionary of outputs\n",
    "        encoded_sent = tokenizer.encode_plus(\n",
    "            text=text_preprocessing(sent),  # Preprocess sentence\n",
    "            add_special_tokens=True,        # Add `[CLS]` and `[SEP]`\n",
    "            max_length=MAX_LEN,                  # Max length to truncate/pad\n",
    "            pad_to_max_length=True,         # Pad sentence to max length\n",
    "            #return_tensors='pt',           # Return PyTorch tensor\n",
    "            return_attention_mask=True      # Return attention mask\n",
    "            )\n",
    "        \n",
    "        # Add the outputs to the lists\n",
    "        input_ids.append(encoded_sent.get('input_ids'))\n",
    "        attention_masks.append(encoded_sent.get('attention_mask'))\n",
    "\n",
    "    # Convert lists to tensors\n",
    "    input_ids = torch.tensor(input_ids)\n",
    "    attention_masks = torch.tensor(attention_masks)\n",
    "\n",
    "    return input_ids, attention_masks"
   ]
  },
  {
   "cell_type": "code",
   "execution_count": 14,
   "id": "9a97f416",
   "metadata": {},
   "outputs": [
    {
     "name": "stdout",
     "output_type": "stream",
     "text": [
      "Max length:  30\n"
     ]
    }
   ],
   "source": [
    "# Concatenate train data and test data\n",
    "all_tweets = np.concatenate([train_data.productDisplayName.values,val_data.productDisplayName.values, test_data.productDisplayName.values])\n",
    "\n",
    "# Encode our concatenated data\n",
    "encoded_tweets = [tokenizer.encode(sent, add_special_tokens=True) for sent in all_tweets]\n",
    "\n",
    "# Find the maximum length\n",
    "max_len = max([len(sent) for sent in encoded_tweets])\n",
    "print('Max length: ', max_len)"
   ]
  },
  {
   "cell_type": "code",
   "execution_count": 15,
   "id": "960f1551",
   "metadata": {},
   "outputs": [
    {
     "name": "stderr",
     "output_type": "stream",
     "text": [
      "Truncation was not explicitly activated but `max_length` is provided a specific value, please use `truncation=True` to explicitly truncate examples to max length. Defaulting to 'longest_first' truncation strategy. If you encode pairs of sequences (GLUE-style) with the tokenizer you can select this strategy more precisely by providing a specific strategy to `truncation`.\n"
     ]
    },
    {
     "name": "stdout",
     "output_type": "stream",
     "text": [
      "Original:  Mr.Men Men's Wave Rider White T-shirt\n",
      "Token IDs:  [101, 2720, 1012, 2273, 2273, 1005, 1055, 4400, 7945, 2317, 1056, 1011, 3797, 102, 0, 0, 0, 0, 0, 0, 0, 0, 0, 0, 0, 0, 0, 0, 0, 0]\n",
      "Tokenizing data...\n"
     ]
    },
    {
     "name": "stderr",
     "output_type": "stream",
     "text": [
      "C:\\Users\\ANDlab3\\anaconda3\\envs\\GAN\\lib\\site-packages\\transformers\\tokenization_utils_base.py:2302: FutureWarning: The `pad_to_max_length` argument is deprecated and will be removed in a future version, use `padding=True` or `padding='longest'` to pad to the longest sequence in the batch, or use `padding='max_length'` to pad to a max length. In this case, you can give a specific length with `max_length` (e.g. `max_length=45`) or leave max_length to None to pad to the maximal input size of the model (e.g. 512 for Bert).\n",
      "  warnings.warn(\n"
     ]
    }
   ],
   "source": [
    "# Specify `MAX_LEN`\n",
    "MAX_LEN = 30\n",
    "\n",
    "# # Print sentence 0 and its encoded token ids\n",
    "token_ids = list(preprocessing_for_bert([X_train[0]])[0].squeeze().numpy())\n",
    "print('Original: ', X_train[0])\n",
    "print('Token IDs: ', token_ids)\n",
    "\n",
    "# Run function `preprocessing_for_bert` on the train set and the validation set\n",
    "print('Tokenizing data...')\n",
    "train_inputs, train_masks = preprocessing_for_bert(X_train)\n",
    "val_inputs, val_masks = preprocessing_for_bert(X_val)\n",
    "test_inputs, test_masks = preprocessing_for_bert(X_test)"
   ]
  },
  {
   "cell_type": "code",
   "execution_count": 16,
   "id": "2e915475",
   "metadata": {},
   "outputs": [
    {
     "name": "stdout",
     "output_type": "stream",
     "text": [
      "torch.Size([6475, 30])\n",
      "torch.Size([6475, 30])\n"
     ]
    }
   ],
   "source": [
    "print(train_inputs.size())\n",
    "print(train_masks.size())"
   ]
  },
  {
   "cell_type": "code",
   "execution_count": 17,
   "id": "fc0f902c",
   "metadata": {},
   "outputs": [
    {
     "name": "stdout",
     "output_type": "stream",
     "text": [
      "torch.Size([925, 30])\n",
      "torch.Size([925, 30])\n"
     ]
    }
   ],
   "source": [
    "print(val_inputs.size())\n",
    "print(val_masks.size())"
   ]
  },
  {
   "cell_type": "code",
   "execution_count": 18,
   "id": "b2e68654",
   "metadata": {},
   "outputs": [
    {
     "name": "stdout",
     "output_type": "stream",
     "text": [
      "torch.Size([1850, 30])\n",
      "torch.Size([1850, 30])\n"
     ]
    }
   ],
   "source": [
    "print(test_inputs.size())\n",
    "print(test_masks.size())"
   ]
  },
  {
   "cell_type": "markdown",
   "id": "48290d0c",
   "metadata": {},
   "source": [
    "# DataLoader"
   ]
  },
  {
   "cell_type": "code",
   "execution_count": 19,
   "id": "8f60c4b6",
   "metadata": {},
   "outputs": [],
   "source": [
    "# Convert other data types to torch.Tensor\n",
    "train_labels = torch.tensor(y_train)\n",
    "val_labels = torch.tensor(y_val)\n",
    "test_labels = torch.tensor(y_test)\n",
    "\n",
    "# For fine-tuning BERT, the authors recommend a batch size of 16 or 32.\n",
    "batch_size = 16\n",
    "\n",
    "# Create the DataLoader for our training set\n",
    "train_data = TensorDataset(train_inputs, train_masks, train_labels)\n",
    "train_sampler = RandomSampler(train_data)\n",
    "train_dataloader = DataLoader(train_data, sampler=train_sampler, batch_size=batch_size)\n",
    "\n",
    "# Create the DataLoader for our validation set\n",
    "val_data = TensorDataset(val_inputs, val_masks, val_labels)\n",
    "val_sampler = SequentialSampler(val_data)\n",
    "val_dataloader = DataLoader(val_data, sampler=val_sampler, batch_size=batch_size)\n",
    "\n",
    "# Create the DataLoader for our test set\n",
    "test_data = TensorDataset(test_inputs, test_masks, test_labels)\n",
    "test_sampler = SequentialSampler(test_data)\n",
    "test_dataloader = DataLoader(test_data, sampler=test_sampler, batch_size=batch_size)"
   ]
  },
  {
   "cell_type": "markdown",
   "id": "d4700c87",
   "metadata": {},
   "source": [
    "# Train"
   ]
  },
  {
   "cell_type": "code",
   "execution_count": 20,
   "id": "3752e170",
   "metadata": {},
   "outputs": [
    {
     "name": "stdout",
     "output_type": "stream",
     "text": [
      "Wall time: 24 ms\n"
     ]
    }
   ],
   "source": [
    "%%time\n",
    "# Create the BertClassfier class\n",
    "class BertClassifier(nn.Module):\n",
    "    \"\"\"Bert Model for Classification Tasks.\n",
    "    \"\"\"\n",
    "    def __init__(self, freeze_bert=False):\n",
    "        \"\"\"\n",
    "        @param    bert: a BertModel object\n",
    "        @param    classifier: a torch.nn.Module classifier\n",
    "        @param    freeze_bert (bool): Set `False` to fine-tune the BERT model\n",
    "        \"\"\"\n",
    "        super(BertClassifier, self).__init__()\n",
    "        # Specify hidden size of BERT, hidden size of our classifier, and number of labels\n",
    "        D_in, H, D_out = 768, 50, 37\n",
    "\n",
    "        # Instantiate BERT model\n",
    "        self.bert = BertModel.from_pretrained('bert-base-uncased')\n",
    "\n",
    "        # Instantiate an one-layer feed-forward classifier\n",
    "        self.classifier = nn.Sequential(\n",
    "            nn.Linear(D_in, H),\n",
    "            nn.ReLU(),\n",
    "            #nn.Dropout(0.5),\n",
    "            nn.Linear(H, D_out)\n",
    "        )\n",
    "\n",
    "        # Freeze the BERT model\n",
    "        if freeze_bert:\n",
    "            for param in self.bert.parameters():\n",
    "                param.requires_grad = False\n",
    "        \n",
    "    def forward(self, input_ids, attention_mask):\n",
    "        \"\"\"\n",
    "        Feed input to BERT and the classifier to compute logits.\n",
    "        @param    input_ids (torch.Tensor): an input tensor with shape (batch_size,\n",
    "                      max_length)\n",
    "        @param    attention_mask (torch.Tensor): a tensor that hold attention mask\n",
    "                      information with shape (batch_size, max_length)\n",
    "        @return   logits (torch.Tensor): an output tensor with shape (batch_size,\n",
    "                      num_labels)\n",
    "        \"\"\"\n",
    "        # Feed input to BERT\n",
    "        outputs = self.bert(input_ids=input_ids,\n",
    "                            attention_mask=attention_mask)\n",
    "        \n",
    "        # Extract the last hidden state of the token `[CLS]` for classification task\n",
    "        last_hidden_state_cls = outputs[0][:, 0, :]\n",
    "\n",
    "        # Feed input to classifier to compute logits\n",
    "        logits = self.classifier(last_hidden_state_cls)\n",
    "\n",
    "        return logits"
   ]
  },
  {
   "cell_type": "code",
   "execution_count": 21,
   "id": "8187e9b3",
   "metadata": {},
   "outputs": [],
   "source": [
    "def initialize_model(epochs=4):\n",
    "    \"\"\"Initialize the Bert Classifier, the optimizer and the learning rate scheduler.\n",
    "    \"\"\"\n",
    "    # Instantiate Bert Classifier\n",
    "    bert_classifier = BertClassifier(freeze_bert=False)\n",
    "    \n",
    "    # Tell PyTorch to run the model on GPU\n",
    "    bert_classifier.to(device)\n",
    "\n",
    "    # Create the optimizer\n",
    "    optimizer = AdamW(bert_classifier.parameters(),\n",
    "                      lr=5e-5,    # Default learning rate\n",
    "                      eps=1e-8    # Default epsilon value\n",
    "                      )\n",
    "\n",
    "    # Total number of training steps\n",
    "    total_steps = len(train_dataloader) * epochs\n",
    "\n",
    "    # Set up the learning rate scheduler\n",
    "    scheduler = get_linear_schedule_with_warmup(optimizer,\n",
    "                                                num_warmup_steps=0, # Default value\n",
    "                                                num_training_steps=total_steps)\n",
    "    return bert_classifier, optimizer, scheduler"
   ]
  },
  {
   "cell_type": "code",
   "execution_count": 22,
   "id": "d40adc7f",
   "metadata": {},
   "outputs": [],
   "source": [
    "# Specify loss function\n",
    "loss_fn = nn.CrossEntropyLoss()\n",
    "\n",
    "\n",
    "def train(model, train_dataloader, val_dataloader=None, epochs=4, evaluation=False):\n",
    "    \"\"\"Train the BertClassifier model.\n",
    "    \"\"\"\n",
    "    # Start training loop\n",
    "    print(\"Start training...\\n\")\n",
    "    for epoch_i in range(epochs):\n",
    "        # =======================================\n",
    "        #               Training\n",
    "        # =======================================\n",
    "        # Print the header of the result table\n",
    "        print(f\"{'Epoch':^7} | {'Batch':^7} | {'Train Loss':^12} | {'Val Loss':^10} | {'Val Acc':^9} | {'Elapsed':^9}\")\n",
    "        print(\"-\"*70)\n",
    "\n",
    "        # Measure the elapsed time of each epoch\n",
    "        t0_epoch, t0_batch = time.time(), time.time()\n",
    "\n",
    "        # Reset tracking variables at the beginning of each epoch\n",
    "        total_loss, batch_loss, batch_counts = 0, 0, 0\n",
    "\n",
    "        # Put the model into the training mode\n",
    "        model.train()\n",
    "\n",
    "        # For each batch of training data...\n",
    "        for step, batch in enumerate(train_dataloader):\n",
    "            batch_counts +=1\n",
    "            # Load batch to GPU\n",
    "            b_input_ids, b_attn_mask, b_labels = tuple(t.to(device) for t in batch)\n",
    "\n",
    "            # Zero out any previously calculated gradients\n",
    "            model.zero_grad()\n",
    "\n",
    "            # Perform a forward pass. This will return logits.\n",
    "            logits = model(b_input_ids, b_attn_mask)\n",
    "\n",
    "            # Compute loss and accumulate the loss values\n",
    "            loss = loss_fn(logits, b_labels)\n",
    "            batch_loss += loss.item()\n",
    "            total_loss += loss.item()\n",
    "\n",
    "            # Perform a backward pass to calculate gradients\n",
    "            loss.backward()\n",
    "\n",
    "            # Clip the norm of the gradients to 1.0 to prevent \"exploding gradients\"\n",
    "            torch.nn.utils.clip_grad_norm_(model.parameters(), 1.0)\n",
    "\n",
    "            # Update parameters and the learning rate\n",
    "            optimizer.step()\n",
    "            scheduler.step()\n",
    "\n",
    "            # Print the loss values and time elapsed for every 20 batches\n",
    "            if (step % 20 == 0 and step != 0) or (step == len(train_dataloader) - 1):\n",
    "                # Calculate time elapsed for 20 batches\n",
    "                time_elapsed = time.time() - t0_batch\n",
    "\n",
    "                # Print training results\n",
    "                print(f\"{epoch_i + 1:^7} | {step:^7} | {batch_loss / batch_counts:^12.6f} | {'-':^10} | {'-':^9} | {time_elapsed:^9.2f}\")\n",
    "\n",
    "                # Reset batch tracking variables\n",
    "                batch_loss, batch_counts = 0, 0\n",
    "                t0_batch = time.time()\n",
    "\n",
    "        # Calculate the average loss over the entire training data\n",
    "        avg_train_loss = total_loss / len(train_dataloader)\n",
    "\n",
    "        print(\"-\"*70)\n",
    "        # =======================================\n",
    "        #               Evaluation\n",
    "        # =======================================\n",
    "        if evaluation == True:\n",
    "            # After the completion of each training epoch, measure the model's performance\n",
    "            # on our validation set.\n",
    "            val_loss, val_accuracy = evaluate(model, val_dataloader)\n",
    "\n",
    "            # Print performance over the entire training data\n",
    "            time_elapsed = time.time() - t0_epoch\n",
    "            \n",
    "            print(f\"{epoch_i + 1:^7} | {'-':^7} | {avg_train_loss:^12.6f} | {val_loss:^10.6f} | {val_accuracy:^9.2f} | {time_elapsed:^9.2f}\")\n",
    "            print(\"-\"*70)\n",
    "        print(\"\\n\")\n",
    "    \n",
    "    print(\"Training complete!\")\n",
    "\n",
    "\n",
    "def evaluate(model, val_dataloader):\n",
    "    \"\"\"After the completion of each training epoch, measure the model's performance\n",
    "    on our validation set.\n",
    "    \"\"\"\n",
    "    # Put the model into the evaluation mode. The dropout layers are disabled during\n",
    "    # the test time.\n",
    "    model.eval()\n",
    "\n",
    "    # Tracking variables\n",
    "    val_accuracy = []\n",
    "    val_loss = []\n",
    "\n",
    "    # For each batch in our validation set...\n",
    "    for batch in val_dataloader:\n",
    "        # Load batch to GPU\n",
    "        b_input_ids, b_attn_mask, b_labels = tuple(t.to(device) for t in batch)\n",
    "\n",
    "        # Compute logits\n",
    "        with torch.no_grad():\n",
    "            logits = model(b_input_ids, b_attn_mask)\n",
    "\n",
    "        # Compute loss\n",
    "        loss = loss_fn(logits, b_labels)\n",
    "        val_loss.append(loss.item())\n",
    "\n",
    "        # Get the predictions\n",
    "        preds = torch.argmax(logits, dim=1).flatten()\n",
    "\n",
    "        # Calculate the accuracy rate\n",
    "        accuracy = (preds == b_labels).cpu().numpy().mean() * 100\n",
    "        val_accuracy.append(accuracy)\n",
    "\n",
    "    # Compute the average accuracy and loss over the validation set.\n",
    "    val_loss = np.mean(val_loss)\n",
    "    val_accuracy = np.mean(val_accuracy)\n",
    "\n",
    "    return val_loss, val_accuracy"
   ]
  },
  {
   "cell_type": "code",
   "execution_count": 23,
   "id": "dfe8d296",
   "metadata": {
    "scrolled": false
   },
   "outputs": [
    {
     "name": "stderr",
     "output_type": "stream",
     "text": [
      "Some weights of the model checkpoint at bert-base-uncased were not used when initializing BertModel: ['cls.seq_relationship.bias', 'cls.seq_relationship.weight', 'cls.predictions.transform.dense.weight', 'cls.predictions.decoder.weight', 'cls.predictions.transform.dense.bias', 'cls.predictions.transform.LayerNorm.bias', 'cls.predictions.transform.LayerNorm.weight', 'cls.predictions.bias']\n",
      "- This IS expected if you are initializing BertModel from the checkpoint of a model trained on another task or with another architecture (e.g. initializing a BertForSequenceClassification model from a BertForPreTraining model).\n",
      "- This IS NOT expected if you are initializing BertModel from the checkpoint of a model that you expect to be exactly identical (initializing a BertForSequenceClassification model from a BertForSequenceClassification model).\n",
      "C:\\Users\\ANDlab3\\anaconda3\\envs\\GAN\\lib\\site-packages\\transformers\\optimization.py:306: FutureWarning: This implementation of AdamW is deprecated and will be removed in a future version. Use the PyTorch implementation torch.optim.AdamW instead, or set `no_deprecation_warning=True` to disable this warning\n",
      "  warnings.warn(\n"
     ]
    },
    {
     "name": "stdout",
     "output_type": "stream",
     "text": [
      "Start training...\n",
      "\n",
      " Epoch  |  Batch  |  Train Loss  |  Val Loss  |  Val Acc  |  Elapsed \n",
      "----------------------------------------------------------------------\n",
      "   1    |   20    |   3.575727   |     -      |     -     |   2.20   \n",
      "   1    |   40    |   3.392727   |     -      |     -     |   1.67   \n",
      "   1    |   60    |   3.009977   |     -      |     -     |   1.65   \n",
      "   1    |   80    |   2.528695   |     -      |     -     |   1.65   \n",
      "   1    |   100   |   2.165882   |     -      |     -     |   1.65   \n",
      "   1    |   120   |   1.743362   |     -      |     -     |   1.65   \n",
      "   1    |   140   |   1.433935   |     -      |     -     |   1.68   \n",
      "   1    |   160   |   1.263259   |     -      |     -     |   1.67   \n",
      "   1    |   180   |   1.107483   |     -      |     -     |   1.67   \n",
      "   1    |   200   |   0.980210   |     -      |     -     |   1.65   \n",
      "   1    |   220   |   0.914613   |     -      |     -     |   1.66   \n",
      "   1    |   240   |   0.771092   |     -      |     -     |   1.66   \n",
      "   1    |   260   |   0.738033   |     -      |     -     |   1.65   \n",
      "   1    |   280   |   0.704887   |     -      |     -     |   1.65   \n",
      "   1    |   300   |   0.681471   |     -      |     -     |   1.66   \n",
      "   1    |   320   |   0.635109   |     -      |     -     |   1.65   \n",
      "   1    |   340   |   0.566026   |     -      |     -     |   1.65   \n",
      "   1    |   360   |   0.537031   |     -      |     -     |   1.66   \n",
      "   1    |   380   |   0.558032   |     -      |     -     |   1.65   \n",
      "   1    |   400   |   0.567448   |     -      |     -     |   1.65   \n",
      "   1    |   404   |   0.594957   |     -      |     -     |   0.32   \n",
      "----------------------------------------------------------------------\n",
      "   1    |    -    |   1.391248   |  0.460062  |   96.34   |   34.91  \n",
      "----------------------------------------------------------------------\n",
      "\n",
      "\n",
      " Epoch  |  Batch  |  Train Loss  |  Val Loss  |  Val Acc  |  Elapsed \n",
      "----------------------------------------------------------------------\n",
      "   2    |   20    |   0.585557   |     -      |     -     |   1.72   \n",
      "   2    |   40    |   0.521916   |     -      |     -     |   1.64   \n",
      "   2    |   60    |   0.554703   |     -      |     -     |   1.64   \n",
      "   2    |   80    |   0.538539   |     -      |     -     |   1.65   \n",
      "   2    |   100   |   0.540670   |     -      |     -     |   1.64   \n",
      "   2    |   120   |   0.573845   |     -      |     -     |   1.65   \n",
      "   2    |   140   |   0.573606   |     -      |     -     |   1.64   \n",
      "   2    |   160   |   0.578139   |     -      |     -     |   1.64   \n",
      "   2    |   180   |   0.547006   |     -      |     -     |   1.71   \n",
      "   2    |   200   |   0.490576   |     -      |     -     |   1.74   \n",
      "   2    |   220   |   0.523528   |     -      |     -     |   1.67   \n",
      "   2    |   240   |   0.528580   |     -      |     -     |   1.71   \n",
      "   2    |   260   |   0.537043   |     -      |     -     |   1.66   \n",
      "   2    |   280   |   0.561662   |     -      |     -     |   1.65   \n",
      "   2    |   300   |   0.533698   |     -      |     -     |   1.64   \n",
      "   2    |   320   |   0.522407   |     -      |     -     |   1.64   \n",
      "   2    |   340   |   0.553601   |     -      |     -     |   1.64   \n",
      "   2    |   360   |   0.513753   |     -      |     -     |   1.64   \n",
      "   2    |   380   |   0.536055   |     -      |     -     |   1.68   \n",
      "   2    |   400   |   0.525559   |     -      |     -     |   1.65   \n",
      "   2    |   404   |   0.465401   |     -      |     -     |   0.32   \n",
      "----------------------------------------------------------------------\n",
      "   2    |    -    |   0.541373   |  0.460062  |   96.34   |   34.52  \n",
      "----------------------------------------------------------------------\n",
      "\n",
      "\n",
      " Epoch  |  Batch  |  Train Loss  |  Val Loss  |  Val Acc  |  Elapsed \n",
      "----------------------------------------------------------------------\n",
      "   3    |   20    |   0.521889   |     -      |     -     |   1.71   \n",
      "   3    |   40    |   0.520306   |     -      |     -     |   1.66   \n",
      "   3    |   60    |   0.587205   |     -      |     -     |   1.65   \n",
      "   3    |   80    |   0.508667   |     -      |     -     |   1.65   \n",
      "   3    |   100   |   0.512230   |     -      |     -     |   1.66   \n",
      "   3    |   120   |   0.531252   |     -      |     -     |   1.67   \n",
      "   3    |   140   |   0.577088   |     -      |     -     |   1.65   \n",
      "   3    |   160   |   0.565380   |     -      |     -     |   1.65   \n",
      "   3    |   180   |   0.572360   |     -      |     -     |   1.65   \n",
      "   3    |   200   |   0.569460   |     -      |     -     |   1.69   \n",
      "   3    |   220   |   0.585276   |     -      |     -     |   1.67   \n",
      "   3    |   240   |   0.515297   |     -      |     -     |   1.65   \n",
      "   3    |   260   |   0.540984   |     -      |     -     |   1.64   \n",
      "   3    |   280   |   0.545869   |     -      |     -     |   1.64   \n",
      "   3    |   300   |   0.523948   |     -      |     -     |   1.64   \n",
      "   3    |   320   |   0.500545   |     -      |     -     |   1.64   \n",
      "   3    |   340   |   0.534599   |     -      |     -     |   1.64   \n",
      "   3    |   360   |   0.553265   |     -      |     -     |   1.64   \n",
      "   3    |   380   |   0.553868   |     -      |     -     |   1.64   \n",
      "   3    |   400   |   0.527571   |     -      |     -     |   1.65   \n",
      "   3    |   404   |   0.477364   |     -      |     -     |   0.32   \n",
      "----------------------------------------------------------------------\n",
      "   3    |    -    |   0.541661   |  0.460062  |   96.34   |   34.32  \n",
      "----------------------------------------------------------------------\n",
      "\n",
      "\n",
      " Epoch  |  Batch  |  Train Loss  |  Val Loss  |  Val Acc  |  Elapsed \n",
      "----------------------------------------------------------------------\n",
      "   4    |   20    |   0.528353   |     -      |     -     |   1.72   \n",
      "   4    |   40    |   0.529382   |     -      |     -     |   1.64   \n",
      "   4    |   60    |   0.538886   |     -      |     -     |   1.64   \n",
      "   4    |   80    |   0.508412   |     -      |     -     |   1.64   \n",
      "   4    |   100   |   0.544449   |     -      |     -     |   1.66   \n",
      "   4    |   120   |   0.555308   |     -      |     -     |   1.65   \n",
      "   4    |   140   |   0.549961   |     -      |     -     |   1.74   \n",
      "   4    |   160   |   0.532771   |     -      |     -     |   1.69   \n",
      "   4    |   180   |   0.542081   |     -      |     -     |   1.64   \n",
      "   4    |   200   |   0.535238   |     -      |     -     |   1.65   \n",
      "   4    |   220   |   0.578712   |     -      |     -     |   1.67   \n",
      "   4    |   240   |   0.556484   |     -      |     -     |   1.67   \n",
      "   4    |   260   |   0.507325   |     -      |     -     |   1.67   \n",
      "   4    |   280   |   0.525871   |     -      |     -     |   1.66   \n",
      "   4    |   300   |   0.519947   |     -      |     -     |   1.64   \n",
      "   4    |   320   |   0.592895   |     -      |     -     |   1.64   \n",
      "   4    |   340   |   0.536875   |     -      |     -     |   1.64   \n",
      "   4    |   360   |   0.581714   |     -      |     -     |   1.66   \n",
      "   4    |   380   |   0.532237   |     -      |     -     |   1.64   \n",
      "   4    |   400   |   0.506904   |     -      |     -     |   1.64   \n",
      "   4    |   404   |   0.756202   |     -      |     -     |   0.33   \n",
      "----------------------------------------------------------------------\n",
      "   4    |    -    |   0.542294   |  0.460062  |   96.34   |   34.44  \n",
      "----------------------------------------------------------------------\n",
      "\n",
      "\n",
      "Training complete!\n"
     ]
    }
   ],
   "source": [
    "bert_classifier, optimizer, scheduler = initialize_model(epochs=1)\n",
    "train(bert_classifier, train_dataloader, val_dataloader, epochs=4, evaluation=True)"
   ]
  },
  {
   "cell_type": "code",
   "execution_count": 24,
   "id": "236a664c",
   "metadata": {},
   "outputs": [],
   "source": [
    "SAVE_PATH = \"C:/Users/ANDlab3/Desktop/NLP/model/\""
   ]
  },
  {
   "cell_type": "code",
   "execution_count": 25,
   "id": "57a4b259",
   "metadata": {},
   "outputs": [],
   "source": [
    "torch.save(bert_classifier.state_dict(), SAVE_PATH + 'bert_fine_tuned.pt')"
   ]
  },
  {
   "cell_type": "code",
   "execution_count": 26,
   "id": "afda5772",
   "metadata": {},
   "outputs": [
    {
     "data": {
      "text/plain": [
       "<All keys matched successfully>"
      ]
     },
     "execution_count": 26,
     "metadata": {},
     "output_type": "execute_result"
    }
   ],
   "source": [
    "model= bert_classifier.to(device) # 모델 선언\n",
    "model.load_state_dict(torch.load(SAVE_PATH+'bert_fine_tuned.pt')) # 모델 파라메타 불러오기"
   ]
  },
  {
   "cell_type": "markdown",
   "id": "87bdf247",
   "metadata": {},
   "source": [
    "# Pred on test set"
   ]
  },
  {
   "cell_type": "code",
   "execution_count": 27,
   "id": "9c3bd57a",
   "metadata": {},
   "outputs": [],
   "source": [
    "def bert_predict(model, test_dataloader):\n",
    "\n",
    "    true = []\n",
    "    pred = []\n",
    "\n",
    "    with torch.no_grad():\n",
    "        model.eval()\n",
    "\n",
    "        for batch in test_dataloader:\n",
    "            # Load batch to GPU\n",
    "            b_input_ids, b_attn_mask, label = tuple(t.to(device) for t in batch)\n",
    "\n",
    "            outputs = model(b_input_ids, b_attn_mask)\n",
    "            _, predicted = torch.max(outputs, 1)\n",
    "\n",
    "            true += label.cpu().numpy().tolist()\n",
    "            pred += predicted.cpu().numpy().tolist()\n",
    "            \n",
    "    return true, pred"
   ]
  },
  {
   "cell_type": "code",
   "execution_count": 28,
   "id": "f28cd3b8",
   "metadata": {},
   "outputs": [],
   "source": [
    "true, pred = bert_predict(model, test_dataloader)"
   ]
  },
  {
   "cell_type": "code",
   "execution_count": 29,
   "id": "025c272a",
   "metadata": {},
   "outputs": [
    {
     "name": "stdout",
     "output_type": "stream",
     "text": [
      "              precision  recall  f1-score   support\n",
      "0                 0.943   1.000     0.971    50.000\n",
      "1                 1.000   1.000     1.000    50.000\n",
      "2                 1.000   1.000     1.000    50.000\n",
      "3                 1.000   1.000     1.000    50.000\n",
      "4                 1.000   1.000     1.000    50.000\n",
      "5                 0.729   0.860     0.789    50.000\n",
      "6                 1.000   0.980     0.990    50.000\n",
      "7                 1.000   0.980     0.990    50.000\n",
      "8                 0.862   1.000     0.926    50.000\n",
      "9                 1.000   1.000     1.000    50.000\n",
      "10                0.875   0.420     0.568    50.000\n",
      "11                0.962   1.000     0.980    50.000\n",
      "12                1.000   0.900     0.947    50.000\n",
      "13                0.980   0.980     0.980    50.000\n",
      "14                0.687   0.920     0.786    50.000\n",
      "15                1.000   1.000     1.000    50.000\n",
      "16                1.000   0.980     0.990    50.000\n",
      "17                1.000   1.000     1.000    50.000\n",
      "18                1.000   1.000     1.000    50.000\n",
      "19                1.000   1.000     1.000    50.000\n",
      "20                0.962   1.000     0.980    50.000\n",
      "21                0.959   0.940     0.949    50.000\n",
      "22                1.000   1.000     1.000    50.000\n",
      "23                0.980   0.980     0.980    50.000\n",
      "24                0.979   0.940     0.959    50.000\n",
      "25                1.000   1.000     1.000    50.000\n",
      "26                0.852   0.920     0.885    50.000\n",
      "27                1.000   1.000     1.000    50.000\n",
      "28                0.980   0.960     0.970    50.000\n",
      "29                1.000   0.960     0.980    50.000\n",
      "30                1.000   1.000     1.000    50.000\n",
      "31                1.000   0.960     0.980    50.000\n",
      "32                0.960   0.960     0.960    50.000\n",
      "33                1.000   0.940     0.969    50.000\n",
      "34                0.980   0.980     0.980    50.000\n",
      "35                1.000   1.000     1.000    50.000\n",
      "36                1.000   1.000     1.000    50.000\n",
      "accuracy          0.961   0.961     0.961     0.961\n",
      "macro avg         0.965   0.961     0.960  1850.000\n",
      "weighted avg      0.965   0.961     0.960  1850.000\n"
     ]
    }
   ],
   "source": [
    "# Classification Report 저장\n",
    "CL_REPORT_FILE = \"./cl_report.csv\"\n",
    "\n",
    "cl_report = classification_report(true, pred, output_dict = True)\n",
    "cl_report_df = pd.DataFrame(cl_report).transpose()\n",
    "cl_report_df = cl_report_df.round(3)\n",
    "cl_report_df.to_csv(CL_REPORT_FILE)\n",
    "print(cl_report_df)"
   ]
  },
  {
   "cell_type": "code",
   "execution_count": null,
   "id": "62fceabe",
   "metadata": {},
   "outputs": [],
   "source": []
  }
 ],
 "metadata": {
  "kernelspec": {
   "display_name": "Python 3 (ipykernel)",
   "language": "python",
   "name": "python3"
  },
  "language_info": {
   "codemirror_mode": {
    "name": "ipython",
    "version": 3
   },
   "file_extension": ".py",
   "mimetype": "text/x-python",
   "name": "python",
   "nbconvert_exporter": "python",
   "pygments_lexer": "ipython3",
   "version": "3.8.12"
  }
 },
 "nbformat": 4,
 "nbformat_minor": 5
}
